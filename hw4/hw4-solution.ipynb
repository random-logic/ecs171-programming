{
 "cells": [
  {
   "cell_type": "code",
   "execution_count": 1,
   "id": "e498e661-e110-4e98-ad8f-5c335d5f391f",
   "metadata": {},
   "outputs": [],
   "source": [
    "# Import all the libraries\n",
    "import numpy as np\n",
    "import pandas as pd\n",
    "import matplotlib.pyplot as plt\n",
    "from sklearn.preprocessing import LabelEncoder, StandardScaler\n",
    "from sklearn.model_selection import train_test_split\n",
    "from sklearn.naive_bayes import CategoricalNB\n",
    "from sklearn.metrics import classification_report\n",
    "from sklearn.svm import SVC\n",
    "from sklearn.cluster import KMeans"
   ]
  },
  {
   "cell_type": "markdown",
   "id": "e89bbbb8-b906-4043-bfd8-f74e5aeff47a",
   "metadata": {},
   "source": [
    "# Question 1"
   ]
  },
  {
   "cell_type": "code",
   "execution_count": 2,
   "id": "8f67b44e-73ce-4c2b-a99f-52915b4490a1",
   "metadata": {},
   "outputs": [],
   "source": [
    "# Import the dataset\n",
    "df = pd.read_csv('garments_worker_productivity.csv')"
   ]
  },
  {
   "cell_type": "code",
   "execution_count": 3,
   "id": "42c7364c-f4f7-480f-8907-59e102698891",
   "metadata": {},
   "outputs": [],
   "source": [
    "# Drop the date column\n",
    "df = df.drop(columns=['date'])"
   ]
  },
  {
   "cell_type": "code",
   "execution_count": 4,
   "id": "51cf68d3-caf1-480f-8198-e9dcfc112df9",
   "metadata": {},
   "outputs": [
    {
     "name": "stdout",
     "output_type": "stream",
     "text": [
      "Unique elements for day: ['Thursday' 'Saturday' 'Sunday' 'Monday' 'Tuesday' 'Wednesday']\n",
      "Unique elements for quarter: ['Quarter1' 'Quarter2' 'Quarter3' 'Quarter4' 'Quarter5']\n",
      "Unique elements for department: ['sweing' 'finishing ' 'finishing']\n",
      "Unique elements for team: [ 8  1 11 12  6  7  2  3  9 10  5  4]\n"
     ]
    }
   ],
   "source": [
    "# Print out all the unique elements for each of the categorical attributes\n",
    "categorical_attributes = ['day', 'quarter', 'department', 'team']\n",
    "\n",
    "for attribute in categorical_attributes:\n",
    "    print(f'Unique elements for {attribute}:', df[attribute].unique())"
   ]
  },
  {
   "cell_type": "markdown",
   "id": "e2d95455-e7a3-4a69-b54a-3dcd027d9609",
   "metadata": {},
   "source": [
    "**There are no duplicated items.**"
   ]
  },
  {
   "cell_type": "code",
   "execution_count": 5,
   "id": "ab0db171-7675-4367-9b05-25d29a876c27",
   "metadata": {},
   "outputs": [],
   "source": [
    "# Create another column named `satisfied` that records the productivity performance.\n",
    "df['satisfied'] = df['actual_productivity'] >= df['targeted_productivity']"
   ]
  },
  {
   "cell_type": "code",
   "execution_count": 6,
   "id": "bfb97737-f8df-43de-a497-2feba88b166a",
   "metadata": {},
   "outputs": [],
   "source": [
    "# Drop the columns `actual_productivity` and `targeted_productivity`.\n",
    "df = df.drop(columns=['actual_productivity', 'targeted_productivity'])"
   ]
  },
  {
   "cell_type": "code",
   "execution_count": 7,
   "id": "8e8169dc-2019-41d0-9648-b8cdfdfbb1a4",
   "metadata": {},
   "outputs": [],
   "source": [
    "# Fill empty values with 0\n",
    "df = df.fillna(0)"
   ]
  },
  {
   "cell_type": "markdown",
   "id": "43ed5b1f-ad82-48cc-91e3-260fcd23f46e",
   "metadata": {},
   "source": [
    "# Question 2"
   ]
  },
  {
   "cell_type": "code",
   "execution_count": 8,
   "id": "2ea44b25-75e6-4d93-9ecb-9237d2829cd1",
   "metadata": {},
   "outputs": [],
   "source": [
    "# Encode categories for each categorical attribute\n",
    "df_2 = df.copy()\n",
    "for attribute in categorical_attributes:\n",
    "    le = LabelEncoder()\n",
    "    df_2[attribute] = le.fit_transform(df_2[attribute])"
   ]
  },
  {
   "cell_type": "code",
   "execution_count": 9,
   "id": "8d531a85-6511-4c0f-8e1e-d36396f7c07a",
   "metadata": {},
   "outputs": [],
   "source": [
    "# Split the data into training and testing set with the ratio of 80:20\n",
    "X = df_2.drop(columns=['satisfied'])\n",
    "y = df_2['satisfied']\n",
    "X_train, X_test, y_train, y_test = train_test_split(X, y, test_size=0.2, random_state=42)"
   ]
  },
  {
   "cell_type": "code",
   "execution_count": 10,
   "id": "11e7dee3-72ca-4836-912e-2b08ce4b7138",
   "metadata": {},
   "outputs": [
    {
     "name": "stdout",
     "output_type": "stream",
     "text": [
      "              precision    recall  f1-score   support\n",
      "\n",
      "       False       0.48      0.19      0.27        63\n",
      "        True       0.76      0.93      0.84       177\n",
      "\n",
      "    accuracy                           0.73       240\n",
      "   macro avg       0.62      0.56      0.55       240\n",
      "weighted avg       0.69      0.73      0.69       240\n",
      "\n"
     ]
    }
   ],
   "source": [
    "# Build a Categorical Naïve Bayes classifier\n",
    "classifier = CategoricalNB()\n",
    "classifier.fit(X_train[categorical_attributes], y_train)\n",
    "y_pred = classifier.predict(X_test[categorical_attributes])\n",
    "\n",
    "print(classification_report(y_test, y_pred))"
   ]
  },
  {
   "cell_type": "markdown",
   "id": "0ca95cbe-5b48-40f6-9c60-729cd9685dd3",
   "metadata": {},
   "source": [
    "# Question 3"
   ]
  },
  {
   "cell_type": "code",
   "execution_count": 11,
   "id": "44097d8d-3f48-452c-944a-24793975108d",
   "metadata": {},
   "outputs": [],
   "source": [
    "# For each of the **categorical attribtues**, encode them with **one-hot encoding**\n",
    "df3 = df.copy()\n",
    "df3 = pd.get_dummies(df3, columns=categorical_attributes)"
   ]
  },
  {
   "cell_type": "code",
   "execution_count": 12,
   "id": "a67e300d-af29-4569-9c2f-ed4e62f64bb0",
   "metadata": {},
   "outputs": [],
   "source": [
    "# Define features (X) and target variable (y)\n",
    "X = df3.drop(columns=['satisfied'])\n",
    "y = df3['satisfied']\n",
    "\n",
    "# Scale the features\n",
    "scaler = StandardScaler()\n",
    "X_scaled = scaler.fit_transform(X)\n",
    "\n",
    "# Split the data into training and testing set with the ratio of 80:20\n",
    "X_train, X_test, y_train, y_test = train_test_split(X, y, test_size=0.2, random_state=42)"
   ]
  },
  {
   "cell_type": "code",
   "execution_count": 13,
   "id": "a28e15de-d654-4f8a-a790-59592acfeb99",
   "metadata": {},
   "outputs": [
    {
     "data": {
      "text/plain": [
       "'              precision    recall  f1-score   support\\n\\n       False       0.75      0.19      0.30        63\\n        True       0.77      0.98      0.86       177\\n\\n    accuracy                           0.77       240\\n   macro avg       0.76      0.58      0.58       240\\nweighted avg       0.77      0.77      0.72       240\\n'"
      ]
     },
     "execution_count": 13,
     "metadata": {},
     "output_type": "execute_result"
    }
   ],
   "source": [
    "# Build SVM with linear kernel\n",
    "# ?? Takes around 2-3 min\n",
    "svm_linear = SVC(kernel='linear') # SVM not SVC??\n",
    "svm_linear.fit(X_train, y_train)\n",
    "y_pred_linear = svm_linear.predict(X_test)\n",
    "\n",
    "classification_report(y_test, y_pred_linear)"
   ]
  },
  {
   "cell_type": "code",
   "execution_count": 14,
   "id": "2f11c5bd-62c7-46d2-94c1-695db55d7a11",
   "metadata": {},
   "outputs": [
    {
     "name": "stdout",
     "output_type": "stream",
     "text": [
      "              precision    recall  f1-score   support\n",
      "\n",
      "       False       0.00      0.00      0.00        63\n",
      "        True       0.74      1.00      0.85       177\n",
      "\n",
      "    accuracy                           0.74       240\n",
      "   macro avg       0.37      0.50      0.42       240\n",
      "weighted avg       0.54      0.74      0.63       240\n",
      "\n"
     ]
    },
    {
     "name": "stderr",
     "output_type": "stream",
     "text": [
      "/home/random/anaconda3/envs/ecs171/lib/python3.11/site-packages/sklearn/metrics/_classification.py:1471: UndefinedMetricWarning: Precision and F-score are ill-defined and being set to 0.0 in labels with no predicted samples. Use `zero_division` parameter to control this behavior.\n",
      "  _warn_prf(average, modifier, msg_start, len(result))\n",
      "/home/random/anaconda3/envs/ecs171/lib/python3.11/site-packages/sklearn/metrics/_classification.py:1471: UndefinedMetricWarning: Precision and F-score are ill-defined and being set to 0.0 in labels with no predicted samples. Use `zero_division` parameter to control this behavior.\n",
      "  _warn_prf(average, modifier, msg_start, len(result))\n",
      "/home/random/anaconda3/envs/ecs171/lib/python3.11/site-packages/sklearn/metrics/_classification.py:1471: UndefinedMetricWarning: Precision and F-score are ill-defined and being set to 0.0 in labels with no predicted samples. Use `zero_division` parameter to control this behavior.\n",
      "  _warn_prf(average, modifier, msg_start, len(result))\n"
     ]
    }
   ],
   "source": [
    "# Build SVM with RBF kernel\n",
    "svm_rbf = SVC(kernel='rbf')\n",
    "svm_rbf.fit(X_train, y_train)\n",
    "y_pred_rbf = svm_rbf.predict(X_test)\n",
    "\n",
    "print(classification_report(y_test, y_pred_rbf))"
   ]
  },
  {
   "cell_type": "code",
   "execution_count": 15,
   "id": "9b5b8175-8f10-46f5-9d00-6782c78f7576",
   "metadata": {},
   "outputs": [
    {
     "name": "stdout",
     "output_type": "stream",
     "text": [
      "satisfied\n",
      "True     698\n",
      "False    259\n",
      "Name: count, dtype: int64\n"
     ]
    }
   ],
   "source": [
    "# For the column `satisfied` in our **training set**, please **print out** the frequency of each class. \n",
    "print(y_train.value_counts())"
   ]
  },
  {
   "cell_type": "code",
   "execution_count": null,
   "id": "93a52ac4-0862-4964-8d23-616065d501e0",
   "metadata": {},
   "outputs": [],
   "source": [
    "# 3.3 ??"
   ]
  },
  {
   "cell_type": "markdown",
   "id": "c9f2e6d6-6804-48d6-8175-2a9616ce591b",
   "metadata": {},
   "source": [
    "# Exercise 4"
   ]
  },
  {
   "cell_type": "code",
   "execution_count": 16,
   "id": "8ee4075f-a099-4577-904f-043d0443f0bf",
   "metadata": {},
   "outputs": [
    {
     "name": "stderr",
     "output_type": "stream",
     "text": [
      "/home/random01/anaconda3/envs/ecs171/lib/python3.11/site-packages/sklearn/cluster/_kmeans.py:1416: FutureWarning: The default value of `n_init` will change from 10 to 'auto' in 1.4. Set the value of `n_init` explicitly to suppress the warning\n",
      "  super()._check_params_vs_input(X, default_n_init=10)\n"
     ]
    }
   ],
   "source": [
    "# Cluster the dataset with k-means, but with the number 60\n",
    "X = df3.drop(columns=['satisfied'])\n",
    "\n",
    "k = 60\n",
    "kmeans = KMeans(n_clusters=k, random_state=42)\n",
    "cluster_labels = kmeans.fit_predict(X)"
   ]
  },
  {
   "cell_type": "code",
   "execution_count": 24,
   "id": "8112fb47-10ab-4656-bedb-f5763b785404",
   "metadata": {},
   "outputs": [
    {
     "data": {
      "text/plain": [
       "33114866.358070366"
      ]
     },
     "execution_count": 24,
     "metadata": {},
     "output_type": "execute_result"
    }
   ],
   "source": [
    "# Calculate and report the Akaike Information Criterion\n",
    "n_samples, n_features = X.shape\n",
    "aic = kmeans.inertia_ + 2 * n_features\n",
    "aic # ?? is this correct?"
   ]
  },
  {
   "cell_type": "code",
   "execution_count": 20,
   "id": "9b6ada55-0912-48fd-b416-76ebc33d9e88",
   "metadata": {},
   "outputs": [
    {
     "data": {
      "text/plain": [
       "array([ 31,  50,   3,  34, 161,   1,  15,   4,   3,   2,  50,   9,  11,\n",
       "        33,   8,  16,   1,   8,  12,   9, 117,   5,   1,  19,   2,   8,\n",
       "        44,  12,   2,  28,   9,  24,  36,  29,  40,   1,  20,   4,  15,\n",
       "        12,  11,  42,  18,   7,  16,  19,  25,   1,  10,   1,  36,   5,\n",
       "        22,   1,  12,   6,   6,  27,  11,  32])"
      ]
     },
     "execution_count": 20,
     "metadata": {},
     "output_type": "execute_result"
    }
   ],
   "source": [
    "# Show the frequency (number of members) of each cluster\n",
    "cluster_freq = np.bincount(cluster_labels)\n",
    "cluster_freq"
   ]
  },
  {
   "cell_type": "code",
   "execution_count": 23,
   "id": "f18239b0-965c-4c01-89d5-3cb7dbe68c3e",
   "metadata": {},
   "outputs": [
    {
     "data": {
      "image/png": "[encoded data removed]",
      "text/plain": [
       "<Figure size 1000x600 with 1 Axes>"
      ]
     },
     "metadata": {},
     "output_type": "display_data"
    }
   ],
   "source": [
    "# Create a bar chart\n",
    "plt.figure(figsize=(10, 6))\n",
    "plt.bar(range(k), cluster_freq, color='skyblue')\n",
    "plt.xlabel('Cluster')\n",
    "plt.ylabel('Frequency')\n",
    "plt.title('Frequency of Each Cluster')\n",
    "plt.show()"
   ]
  },
  {
   "cell_type": "code",
   "execution_count": null,
   "id": "576c896f-afb0-48f1-ac0e-2d423bbb0a41",
   "metadata": {},
   "outputs": [],
   "source": [
    "# 4.2 ??"
   ]
  }
 ],
 "metadata": {
  "kernelspec": {
   "display_name": "Python 3 (ipykernel)",
   "language": "python",
   "name": "python3"
  },
  "language_info": {
   "codemirror_mode": {
    "name": "ipython",
    "version": 3
   },
   "file_extension": ".py",
   "mimetype": "text/x-python",
   "name": "python",
   "nbconvert_exporter": "python",
   "pygments_lexer": "ipython3",
   "version": "3.11.7"
  }
 },
 "nbformat": 4,
 "nbformat_minor": 5
}
