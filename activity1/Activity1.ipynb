{
 "cells": [
  {
   "cell_type": "code",
   "execution_count": 59,
   "id": "9cc6d96c-05d1-4a1e-866e-3a31cbce3478",
   "metadata": {},
   "outputs": [
    {
     "data": {
      "text/plain": [
       "array([-0.652, -2.074, -4.756])"
      ]
     },
     "execution_count": 59,
     "metadata": {},
     "output_type": "execute_result"
    }
   ],
   "source": [
    "import numpy as np\n",
    "\n",
    "m, n = 3, 6\n",
    "x = np.array([\n",
    "    [1] * n,\n",
    "    [4, 2, 1, 3, 1, 6],\n",
    "    [1, 8, 0, 2, 4, 7]\n",
    "])\n",
    "y = np.array([2, -14, 1, -1, -7, -8]).T\n",
    "learning_rate = 0.02\n",
    "\n",
    "w_t = np.array([0.1, 0.2, 0.3])\n",
    "y_hat_t = np.array(w_t.T @ x)\n",
    "\n",
    "gradient_J = np.array([-np.sum((y - y_hat_t) * x[j]) for j in range(m)])\n",
    "w_t_plus_1 = w_t - learning_rate * gradient_J\n",
    "w_t_plus_1"
   ]
  },
  {
   "cell_type": "code",
   "execution_count": null,
   "id": "5b9eaf8b-78ce-4262-8450-80da277b7703",
   "metadata": {},
   "outputs": [],
   "source": []
  }
 ],
 "metadata": {
  "kernelspec": {
   "display_name": "Python 3 (ipykernel)",
   "language": "python",
   "name": "python3"
  },
  "language_info": {
   "codemirror_mode": {
    "name": "ipython",
    "version": 3
   },
   "file_extension": ".py",
   "mimetype": "text/x-python",
   "name": "python",
   "nbconvert_exporter": "python",
   "pygments_lexer": "ipython3",
   "version": "3.11.7"
  }
 },
 "nbformat": 4,
 "nbformat_minor": 5
}
