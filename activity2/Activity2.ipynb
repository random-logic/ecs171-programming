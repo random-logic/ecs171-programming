{
 "cells": [
  {
   "cell_type": "code",
   "execution_count": 24,
   "id": "a32398a7-58ef-421c-afdc-197a1d076836",
   "metadata": {},
   "outputs": [
    {
     "name": "stdout",
     "output_type": "stream",
     "text": [
      "x_1: [0 0 1 1]\n",
      "x_2: [0 1 0 1]\n",
      "N_1: [0 0 0 1]\n",
      "N_2: [1 0 0 0]\n",
      "N_Z: [0 1 1 0]\n"
     ]
    }
   ],
   "source": [
    "import numpy as np\n",
    "\n",
    "x = np.array([\n",
    "    [1] * 4,\n",
    "    [0, 0, 1, 1],\n",
    "    [0, 1] * 2\n",
    "])\n",
    "\n",
    "N_1_condition = -1.5 * x[0] + x[1] + x[2] >= 0\n",
    "N_2_condition = -1 * x[1] + -1 * x[2] >= 0\n",
    "N = np.array([N_1_condition.astype(int), N_2_condition.astype(int)])\n",
    "\n",
    "N_Z_condition = 0.5 + -1 * N[0] + -1 * N[1] >= 0\n",
    "N_Z = N_Z_condition.astype(int)\n",
    "\n",
    "print(\"x_1:\", x[1])\n",
    "print(\"x_2:\", x[2])\n",
    "print(\"N_1:\", N[0])\n",
    "print(\"N_2:\", N[1])\n",
    "print(\"N_Z:\", N_Z)"
   ]
  },
  {
   "cell_type": "markdown",
   "id": "c58bc2f8-0144-4efd-b71f-4d7f8c8e7727",
   "metadata": {},
   "source": [
    "$N_1$ is an AND gate, $N_2$ is a NOR gate, and $N_Z$ an XOR gate."
   ]
  },
  {
   "cell_type": "code",
   "execution_count": null,
   "id": "0dc10ae0-a529-44d5-baa8-3b78c16a77bc",
   "metadata": {},
   "outputs": [],
   "source": []
  }
 ],
 "metadata": {
  "kernelspec": {
   "display_name": "Python 3 (ipykernel)",
   "language": "python",
   "name": "python3"
  },
  "language_info": {
   "codemirror_mode": {
    "name": "ipython",
    "version": 3
   },
   "file_extension": ".py",
   "mimetype": "text/x-python",
   "name": "python",
   "nbconvert_exporter": "python",
   "pygments_lexer": "ipython3",
   "version": "3.11.7"
  }
 },
 "nbformat": 4,
 "nbformat_minor": 5
}
